{
 "cells": [
  {
   "cell_type": "code",
   "execution_count": 1,
   "id": "f5fe55e8",
   "metadata": {},
   "outputs": [
    {
     "name": "stderr",
     "output_type": "stream",
     "text": [
      "/home/seolho/anaconda3/envs/urlb/lib/python3.8/site-packages/tqdm/auto.py:22: TqdmWarning: IProgress not found. Please update jupyter and ipywidgets. See https://ipywidgets.readthedocs.io/en/stable/user_install.html\n",
      "  from .autonotebook import tqdm as notebook_tqdm\n",
      "/home/seolho/anaconda3/envs/urlb/lib/python3.8/site-packages/torch/utils/tensorboard/__init__.py:4: DeprecationWarning: distutils Version classes are deprecated. Use packaging.version instead.\n",
      "  if not hasattr(tensorboard, \"__version__\") or LooseVersion(\n",
      "/home/seolho/anaconda3/envs/urlb/lib/python3.8/site-packages/torch/utils/tensorboard/__init__.py:6: DeprecationWarning: distutils Version classes are deprecated. Use packaging.version instead.\n",
      "  ) < LooseVersion(\"1.15\"):\n"
     ]
    }
   ],
   "source": [
    "from finetune import Workspace as W\n",
    "import os\n",
    "import hydra\n",
    "from omegaconf import OmegaConf\n",
    "import numpy as np"
   ]
  },
  {
   "cell_type": "code",
   "execution_count": 2,
   "id": "489565d9",
   "metadata": {},
   "outputs": [],
   "source": [
    "import pathlib\n",
    "import hydra\n",
    "hydra.core.global_hydra.GlobalHydra.instance().clear()\n",
    "config_dir = pathlib.Path('./')\n",
    "hydra.initialize(config_path=config_dir)\n",
    "\n",
    "cfg = hydra.compose(config_name='finetune.yaml', overrides=[])\n"
   ]
  },
  {
   "cell_type": "code",
   "execution_count": 3,
   "id": "79c1ad8e",
   "metadata": {},
   "outputs": [
    {
     "name": "stdout",
     "output_type": "stream",
     "text": [
      "workspace: /home/seolho/workplace/self-supervised-rl/for commit/cic\n"
     ]
    }
   ],
   "source": [
    "cfg\n",
    "workspace = W(cfg)"
   ]
  },
  {
   "cell_type": "code",
   "execution_count": 4,
   "id": "5a54a90b",
   "metadata": {},
   "outputs": [
    {
     "name": "stdout",
     "output_type": "stream",
     "text": [
      "| \u001b[32meval\u001b[0m  | F: 0 | S: 0 | E: 0 | L: 1000 | R: 215.7295 | T: 0:00:00\n"
     ]
    }
   ],
   "source": [
    "np.random.uniform(0,1,64).astype(np.float32)\n",
    "skill = np.ones(64).astype(np.float32)\n",
    "workspace.eval(skill)"
   ]
  },
  {
   "cell_type": "code",
   "execution_count": 7,
   "id": "fea551c2",
   "metadata": {},
   "outputs": [
    {
     "data": {
      "text/plain": [
       "4000"
      ]
     },
     "execution_count": 7,
     "metadata": {},
     "output_type": "execute_result"
    }
   ],
   "source": [
    "workspace.gather_trajectories(skill, 2000)\n",
    "len(workspace.replay_storage)"
   ]
  },
  {
   "cell_type": "code",
   "execution_count": 120,
   "id": "868a583d",
   "metadata": {},
   "outputs": [
    {
     "data": {
      "text/plain": [
       "torch.utils.data.dataloader._MultiProcessingDataLoaderIter"
      ]
     },
     "execution_count": 120,
     "metadata": {},
     "output_type": "execute_result"
    }
   ],
   "source": [
    "type(workspace.replay_iter)"
   ]
  },
  {
   "cell_type": "code",
   "execution_count": 31,
   "id": "c608f52d",
   "metadata": {
    "scrolled": true
   },
   "outputs": [
    {
     "data": {
      "text/plain": [
       "{'batch_reward': 0.13910725712776184,\n",
       " 'critic_target_q': 0.17433397471904755,\n",
       " 'critic_q1': 0.1872975081205368,\n",
       " 'critic_q2': 0.19648459553718567,\n",
       " 'critic_loss': 0.27787157893180847,\n",
       " 'actor_loss': -0.21502485871315002,\n",
       " 'actor_logprob': 2.795954942703247,\n",
       " 'actor_ent': -1.1429965496063232}"
      ]
     },
     "execution_count": 31,
     "metadata": {},
     "output_type": "execute_result"
    }
   ],
   "source": [
    "workspace.agent.update(workspace.replay_iter, 0)"
   ]
  },
  {
   "cell_type": "code",
   "execution_count": 110,
   "id": "da38f479",
   "metadata": {},
   "outputs": [
    {
     "ename": "AttributeError",
     "evalue": "'_MultiProcessingDataLoaderIter' object has no attribute 'dataset'",
     "output_type": "error",
     "traceback": [
      "\u001b[0;31m---------------------------------------------------------------------------\u001b[0m",
      "\u001b[0;31mAttributeError\u001b[0m                            Traceback (most recent call last)",
      "Input \u001b[0;32mIn [110]\u001b[0m, in \u001b[0;36m<cell line: 1>\u001b[0;34m()\u001b[0m\n\u001b[0;32m----> 1\u001b[0m \u001b[43mworkspace\u001b[49m\u001b[38;5;241;43m.\u001b[39;49m\u001b[43mreplay_iter\u001b[49m\u001b[38;5;241;43m.\u001b[39;49m\u001b[43mdataset\u001b[49m\n",
      "\u001b[0;31mAttributeError\u001b[0m: '_MultiProcessingDataLoaderIter' object has no attribute 'dataset'"
     ]
    }
   ],
   "source": [
    "workspace.replay_iter.dataset"
   ]
  },
  {
   "cell_type": "code",
   "execution_count": 112,
   "id": "dc0fc57f",
   "metadata": {},
   "outputs": [
    {
     "data": {
      "text/plain": [
       "3000"
      ]
     },
     "execution_count": 112,
     "metadata": {},
     "output_type": "execute_result"
    }
   ],
   "source": []
  },
  {
   "cell_type": "code",
   "execution_count": null,
   "id": "7c4a18bf",
   "metadata": {},
   "outputs": [],
   "source": [
    "metrics = self.agent.update(self.replay_iter, self.global_step)"
   ]
  },
  {
   "cell_type": "code",
   "execution_count": 4,
   "id": "300898da",
   "metadata": {},
   "outputs": [
    {
     "name": "stdout",
     "output_type": "stream",
     "text": [
      "size :  1\n",
      "size :  1\n",
      "size :  1\n",
      "size :  1\n",
      "size :  1\n",
      "size :  1\n",
      "size :  1\n",
      "size :  1\n",
      "size :  1\n",
      "size :  1\n",
      "| \u001b[32meval\u001b[0m  | F: 0 | S: 0 | E: 0 | L: 1000 | R: 244.6752 | T: 0:00:00\n"
     ]
    },
    {
     "ename": "TypeError",
     "evalue": "init_meta() missing 1 required positional argument: 'skill'",
     "output_type": "error",
     "traceback": [
      "\u001b[0;31m---------------------------------------------------------------------------\u001b[0m",
      "\u001b[0;31mTypeError\u001b[0m                                 Traceback (most recent call last)",
      "Input \u001b[0;32mIn [4]\u001b[0m, in \u001b[0;36m<cell line: 1>\u001b[0;34m()\u001b[0m\n\u001b[0;32m----> 1\u001b[0m \u001b[43mworkspace\u001b[49m\u001b[38;5;241;43m.\u001b[39;49m\u001b[43mtrain\u001b[49m\u001b[43m(\u001b[49m\u001b[43m)\u001b[49m\n",
      "File \u001b[0;32m~/workplace/self-supervised-rl/for commit/cic/finetune.py:197\u001b[0m, in \u001b[0;36mWorkspace.train\u001b[0;34m(self)\u001b[0m\n\u001b[1;32m    193\u001b[0m     \u001b[38;5;28mself\u001b[39m\u001b[38;5;241m.\u001b[39mlogger\u001b[38;5;241m.\u001b[39mlog(\u001b[38;5;124m'\u001b[39m\u001b[38;5;124meval_total_time\u001b[39m\u001b[38;5;124m'\u001b[39m, \u001b[38;5;28mself\u001b[39m\u001b[38;5;241m.\u001b[39mtimer\u001b[38;5;241m.\u001b[39mtotal_time(),\n\u001b[1;32m    194\u001b[0m                     \u001b[38;5;28mself\u001b[39m\u001b[38;5;241m.\u001b[39mglobal_frame)\n\u001b[1;32m    195\u001b[0m     \u001b[38;5;28mself\u001b[39m\u001b[38;5;241m.\u001b[39meval(np\u001b[38;5;241m.\u001b[39mrandom\u001b[38;5;241m.\u001b[39muniform(\u001b[38;5;241m0\u001b[39m,\u001b[38;5;241m1\u001b[39m,\u001b[38;5;241m64\u001b[39m)\u001b[38;5;241m.\u001b[39mastype(np\u001b[38;5;241m.\u001b[39mfloat32))\n\u001b[0;32m--> 197\u001b[0m meta \u001b[38;5;241m=\u001b[39m \u001b[38;5;28;43mself\u001b[39;49m\u001b[38;5;241;43m.\u001b[39;49m\u001b[43magent\u001b[49m\u001b[38;5;241;43m.\u001b[39;49m\u001b[43mupdate_meta\u001b[49m\u001b[43m(\u001b[49m\u001b[43mmeta\u001b[49m\u001b[43m,\u001b[49m\u001b[43m \u001b[49m\u001b[38;5;28;43mself\u001b[39;49m\u001b[38;5;241;43m.\u001b[39;49m\u001b[43mglobal_step\u001b[49m\u001b[43m,\u001b[49m\u001b[43m \u001b[49m\u001b[43mtime_step\u001b[49m\u001b[43m)\u001b[49m\n\u001b[1;32m    199\u001b[0m \u001b[38;5;28;01mif\u001b[39;00m \u001b[38;5;28mhasattr\u001b[39m(\u001b[38;5;28mself\u001b[39m\u001b[38;5;241m.\u001b[39magent, \u001b[38;5;124m\"\u001b[39m\u001b[38;5;124mregress_meta\u001b[39m\u001b[38;5;124m\"\u001b[39m):\n\u001b[1;32m    200\u001b[0m     repeat \u001b[38;5;241m=\u001b[39m \u001b[38;5;28mself\u001b[39m\u001b[38;5;241m.\u001b[39mcfg\u001b[38;5;241m.\u001b[39maction_repeat\n",
      "File \u001b[0;32m~/workplace/self-supervised-rl/for commit/cic/agent/cic.py:150\u001b[0m, in \u001b[0;36mCICAgent.update_meta\u001b[0;34m(self, meta, step, time_step)\u001b[0m\n\u001b[1;32m    148\u001b[0m \u001b[38;5;28;01mdef\u001b[39;00m \u001b[38;5;21mupdate_meta\u001b[39m(\u001b[38;5;28mself\u001b[39m, meta, step, time_step):\n\u001b[1;32m    149\u001b[0m     \u001b[38;5;28;01mif\u001b[39;00m step \u001b[38;5;241m%\u001b[39m \u001b[38;5;28mself\u001b[39m\u001b[38;5;241m.\u001b[39mupdate_skill_every_step \u001b[38;5;241m==\u001b[39m \u001b[38;5;241m0\u001b[39m:\n\u001b[0;32m--> 150\u001b[0m         \u001b[38;5;28;01mreturn\u001b[39;00m \u001b[38;5;28;43mself\u001b[39;49m\u001b[38;5;241;43m.\u001b[39;49m\u001b[43minit_meta\u001b[49m\u001b[43m(\u001b[49m\u001b[43m)\u001b[49m\n\u001b[1;32m    151\u001b[0m     \u001b[38;5;28;01mreturn\u001b[39;00m meta\n",
      "\u001b[0;31mTypeError\u001b[0m: init_meta() missing 1 required positional argument: 'skill'"
     ]
    }
   ],
   "source": [
    "workspace.train()"
   ]
  },
  {
   "cell_type": "code",
   "execution_count": 11,
   "id": "c83cf6e6",
   "metadata": {},
   "outputs": [],
   "source": [
    "class Until:\n",
    "    def __init__(self, until, action_repeat=1):\n",
    "        self._until = until\n",
    "        self._action_repeat = action_repeat\n",
    "\n",
    "    def __call__(self, step):\n",
    "        if self._until is None:\n",
    "            return True\n",
    "        until = self._until // self._action_repeat\n",
    "        return step < until"
   ]
  },
  {
   "cell_type": "code",
   "execution_count": 12,
   "id": "cbf28ca9",
   "metadata": {},
   "outputs": [],
   "source": [
    "t = Until(10)"
   ]
  },
  {
   "cell_type": "code",
   "execution_count": 15,
   "id": "e73be256",
   "metadata": {},
   "outputs": [
    {
     "name": "stdout",
     "output_type": "stream",
     "text": [
      "0\n",
      "1\n",
      "2\n",
      "3\n",
      "4\n",
      "5\n",
      "6\n",
      "7\n",
      "8\n",
      "9\n"
     ]
    }
   ],
   "source": []
  },
  {
   "cell_type": "code",
   "execution_count": null,
   "id": "f35566ce",
   "metadata": {},
   "outputs": [],
   "source": []
  }
 ],
 "metadata": {
  "kernelspec": {
   "display_name": "urlb",
   "language": "python",
   "name": "urlb"
  },
  "language_info": {
   "codemirror_mode": {
    "name": "ipython",
    "version": 3
   },
   "file_extension": ".py",
   "mimetype": "text/x-python",
   "name": "python",
   "nbconvert_exporter": "python",
   "pygments_lexer": "ipython3",
   "version": "3.8.13"
  }
 },
 "nbformat": 4,
 "nbformat_minor": 5
}
