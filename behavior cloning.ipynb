{
 "cells": [
  {
   "cell_type": "code",
   "execution_count": 1,
   "id": "46eb1d86",
   "metadata": {},
   "outputs": [
    {
     "name": "stderr",
     "output_type": "stream",
     "text": [
      "/home/seolho/anaconda3/envs/urlb/lib/python3.8/site-packages/tqdm/auto.py:22: TqdmWarning: IProgress not found. Please update jupyter and ipywidgets. See https://ipywidgets.readthedocs.io/en/stable/user_install.html\n",
      "  from .autonotebook import tqdm as notebook_tqdm\n",
      "/home/seolho/anaconda3/envs/urlb/lib/python3.8/site-packages/torch/utils/tensorboard/__init__.py:4: DeprecationWarning: distutils Version classes are deprecated. Use packaging.version instead.\n",
      "  if not hasattr(tensorboard, \"__version__\") or LooseVersion(\n",
      "/home/seolho/anaconda3/envs/urlb/lib/python3.8/site-packages/torch/utils/tensorboard/__init__.py:6: DeprecationWarning: distutils Version classes are deprecated. Use packaging.version instead.\n",
      "  ) < LooseVersion(\"1.15\"):\n"
     ]
    }
   ],
   "source": [
    "from finetune import Workspace as W\n",
    "import os\n",
    "import hydra\n",
    "from omegaconf import OmegaConf\n",
    "import numpy as np"
   ]
  },
  {
   "cell_type": "code",
   "execution_count": 2,
   "id": "e16c551e",
   "metadata": {},
   "outputs": [],
   "source": [
    "import pathlib\n",
    "import hydra\n",
    "hydra.core.global_hydra.GlobalHydra.instance().clear()\n",
    "config_dir = pathlib.Path('./')\n",
    "hydra.initialize(config_path=config_dir)\n",
    "\n",
    "cfg = hydra.compose(config_name='finetune.yaml', overrides=[])\n"
   ]
  },
  {
   "cell_type": "code",
   "execution_count": 3,
   "id": "0476979e",
   "metadata": {},
   "outputs": [
    {
     "name": "stdout",
     "output_type": "stream",
     "text": [
      "workspace: /home/seolho/workplace/self-supervised-rl/for commit/cic\n"
     ]
    }
   ],
   "source": [
    "cfg\n",
    "workspace = W(cfg)"
   ]
  },
  {
   "cell_type": "code",
   "execution_count": 4,
   "id": "6c7de431",
   "metadata": {},
   "outputs": [],
   "source": [
    "np.random.uniform(0,1,64).astype(np.float32)\n",
    "skill = np.ones(64).astype(np.float32)\n",
    "#workspace.eval(skill)"
   ]
  },
  {
   "cell_type": "code",
   "execution_count": 5,
   "id": "846e7bd5",
   "metadata": {},
   "outputs": [
    {
     "data": {
      "text/plain": [
       "2000"
      ]
     },
     "execution_count": 5,
     "metadata": {},
     "output_type": "execute_result"
    }
   ],
   "source": [
    "workspace.gather_trajectories(skill, 2000)\n",
    "len(workspace.replay_storage)"
   ]
  },
  {
   "cell_type": "code",
   "execution_count": 8,
   "id": "790d09b5",
   "metadata": {},
   "outputs": [
    {
     "ename": "IndexError",
     "evalue": "Caught IndexError in DataLoader worker process 2.\nOriginal Traceback (most recent call last):\n  File \"/home/seolho/anaconda3/envs/urlb/lib/python3.8/site-packages/torch/utils/data/_utils/worker.py\", line 302, in _worker_loop\n    data = fetcher.fetch(index)\n  File \"/home/seolho/anaconda3/envs/urlb/lib/python3.8/site-packages/torch/utils/data/_utils/fetch.py\", line 32, in fetch\n    data.append(next(self.dataset_iter))\n  File \"/home/seolho/workplace/self-supervised-rl/for commit/cic/replay_buffer.py\", line 169, in __iter__\n    yield self._sample()\n  File \"/home/seolho/workplace/self-supervised-rl/for commit/cic/replay_buffer.py\", line 150, in _sample\n    episode = self._sample_episode()\n  File \"/home/seolho/workplace/self-supervised-rl/for commit/cic/replay_buffer.py\", line 99, in _sample_episode\n    eps_fn = random.choice(self._episode_fns)\n  File \"/home/seolho/anaconda3/envs/urlb/lib/python3.8/random.py\", line 290, in choice\n    raise IndexError('Cannot choose from an empty sequence') from None\nIndexError: Cannot choose from an empty sequence\n",
     "output_type": "error",
     "traceback": [
      "\u001b[0;31m---------------------------------------------------------------------------\u001b[0m",
      "\u001b[0;31mIndexError\u001b[0m                                Traceback (most recent call last)",
      "Input \u001b[0;32mIn [8]\u001b[0m, in \u001b[0;36m<cell line: 1>\u001b[0;34m()\u001b[0m\n\u001b[0;32m----> 1\u001b[0m \u001b[43mworkspace\u001b[49m\u001b[38;5;241;43m.\u001b[39;49m\u001b[43magent\u001b[49m\u001b[38;5;241;43m.\u001b[39;49m\u001b[43mbehavior_cloning\u001b[49m\u001b[43m(\u001b[49m\u001b[43mworkspace\u001b[49m\u001b[38;5;241;43m.\u001b[39;49m\u001b[43mreplay_iter\u001b[49m\u001b[43m,\u001b[49m\u001b[43m \u001b[49m\u001b[38;5;241;43m0\u001b[39;49m\u001b[43m)\u001b[49m\n",
      "File \u001b[0;32m~/workplace/self-supervised-rl/for commit/cic/agent/cic.py:257\u001b[0m, in \u001b[0;36mCICAgent.behavior_cloning\u001b[0;34m(self, replay_iter, step)\u001b[0m\n\u001b[1;32m    254\u001b[0m \u001b[38;5;28;01mif\u001b[39;00m step \u001b[38;5;241m%\u001b[39m \u001b[38;5;28mself\u001b[39m\u001b[38;5;241m.\u001b[39mupdate_every_steps \u001b[38;5;241m!=\u001b[39m \u001b[38;5;241m0\u001b[39m:\n\u001b[1;32m    255\u001b[0m     \u001b[38;5;28;01mreturn\u001b[39;00m metrics\n\u001b[0;32m--> 257\u001b[0m batch \u001b[38;5;241m=\u001b[39m \u001b[38;5;28;43mnext\u001b[39;49m\u001b[43m(\u001b[49m\u001b[43mreplay_iter\u001b[49m\u001b[43m)\u001b[49m\n\u001b[1;32m    259\u001b[0m obs, action, reward, discount, next_obs, skill \u001b[38;5;241m=\u001b[39m utils\u001b[38;5;241m.\u001b[39mto_torch(\n\u001b[1;32m    260\u001b[0m     batch, \u001b[38;5;28mself\u001b[39m\u001b[38;5;241m.\u001b[39mdevice)\n\u001b[1;32m    262\u001b[0m \u001b[38;5;28;01mwith\u001b[39;00m torch\u001b[38;5;241m.\u001b[39mno_grad():\n",
      "File \u001b[0;32m~/anaconda3/envs/urlb/lib/python3.8/site-packages/torch/utils/data/dataloader.py:652\u001b[0m, in \u001b[0;36m_BaseDataLoaderIter.__next__\u001b[0;34m(self)\u001b[0m\n\u001b[1;32m    649\u001b[0m \u001b[38;5;28;01mif\u001b[39;00m \u001b[38;5;28mself\u001b[39m\u001b[38;5;241m.\u001b[39m_sampler_iter \u001b[38;5;129;01mis\u001b[39;00m \u001b[38;5;28;01mNone\u001b[39;00m:\n\u001b[1;32m    650\u001b[0m     \u001b[38;5;66;03m# TODO(https://github.com/pytorch/pytorch/issues/76750)\u001b[39;00m\n\u001b[1;32m    651\u001b[0m     \u001b[38;5;28mself\u001b[39m\u001b[38;5;241m.\u001b[39m_reset()  \u001b[38;5;66;03m# type: ignore[call-arg]\u001b[39;00m\n\u001b[0;32m--> 652\u001b[0m data \u001b[38;5;241m=\u001b[39m \u001b[38;5;28;43mself\u001b[39;49m\u001b[38;5;241;43m.\u001b[39;49m\u001b[43m_next_data\u001b[49m\u001b[43m(\u001b[49m\u001b[43m)\u001b[49m\n\u001b[1;32m    653\u001b[0m \u001b[38;5;28mself\u001b[39m\u001b[38;5;241m.\u001b[39m_num_yielded \u001b[38;5;241m+\u001b[39m\u001b[38;5;241m=\u001b[39m \u001b[38;5;241m1\u001b[39m\n\u001b[1;32m    654\u001b[0m \u001b[38;5;28;01mif\u001b[39;00m \u001b[38;5;28mself\u001b[39m\u001b[38;5;241m.\u001b[39m_dataset_kind \u001b[38;5;241m==\u001b[39m _DatasetKind\u001b[38;5;241m.\u001b[39mIterable \u001b[38;5;129;01mand\u001b[39;00m \\\n\u001b[1;32m    655\u001b[0m         \u001b[38;5;28mself\u001b[39m\u001b[38;5;241m.\u001b[39m_IterableDataset_len_called \u001b[38;5;129;01mis\u001b[39;00m \u001b[38;5;129;01mnot\u001b[39;00m \u001b[38;5;28;01mNone\u001b[39;00m \u001b[38;5;129;01mand\u001b[39;00m \\\n\u001b[1;32m    656\u001b[0m         \u001b[38;5;28mself\u001b[39m\u001b[38;5;241m.\u001b[39m_num_yielded \u001b[38;5;241m>\u001b[39m \u001b[38;5;28mself\u001b[39m\u001b[38;5;241m.\u001b[39m_IterableDataset_len_called:\n",
      "File \u001b[0;32m~/anaconda3/envs/urlb/lib/python3.8/site-packages/torch/utils/data/dataloader.py:1327\u001b[0m, in \u001b[0;36m_MultiProcessingDataLoaderIter._next_data\u001b[0;34m(self)\u001b[0m\n\u001b[1;32m   1325\u001b[0m \u001b[38;5;28;01mif\u001b[39;00m \u001b[38;5;28mlen\u001b[39m(\u001b[38;5;28mself\u001b[39m\u001b[38;5;241m.\u001b[39m_task_info[\u001b[38;5;28mself\u001b[39m\u001b[38;5;241m.\u001b[39m_rcvd_idx]) \u001b[38;5;241m==\u001b[39m \u001b[38;5;241m2\u001b[39m:\n\u001b[1;32m   1326\u001b[0m     data \u001b[38;5;241m=\u001b[39m \u001b[38;5;28mself\u001b[39m\u001b[38;5;241m.\u001b[39m_task_info\u001b[38;5;241m.\u001b[39mpop(\u001b[38;5;28mself\u001b[39m\u001b[38;5;241m.\u001b[39m_rcvd_idx)[\u001b[38;5;241m1\u001b[39m]\n\u001b[0;32m-> 1327\u001b[0m     \u001b[38;5;28;01mreturn\u001b[39;00m \u001b[38;5;28;43mself\u001b[39;49m\u001b[38;5;241;43m.\u001b[39;49m\u001b[43m_process_data\u001b[49m\u001b[43m(\u001b[49m\u001b[43mdata\u001b[49m\u001b[43m)\u001b[49m\n\u001b[1;32m   1329\u001b[0m \u001b[38;5;28;01massert\u001b[39;00m \u001b[38;5;129;01mnot\u001b[39;00m \u001b[38;5;28mself\u001b[39m\u001b[38;5;241m.\u001b[39m_shutdown \u001b[38;5;129;01mand\u001b[39;00m \u001b[38;5;28mself\u001b[39m\u001b[38;5;241m.\u001b[39m_tasks_outstanding \u001b[38;5;241m>\u001b[39m \u001b[38;5;241m0\u001b[39m\n\u001b[1;32m   1330\u001b[0m idx, data \u001b[38;5;241m=\u001b[39m \u001b[38;5;28mself\u001b[39m\u001b[38;5;241m.\u001b[39m_get_data()\n",
      "File \u001b[0;32m~/anaconda3/envs/urlb/lib/python3.8/site-packages/torch/utils/data/dataloader.py:1373\u001b[0m, in \u001b[0;36m_MultiProcessingDataLoaderIter._process_data\u001b[0;34m(self, data)\u001b[0m\n\u001b[1;32m   1371\u001b[0m \u001b[38;5;28mself\u001b[39m\u001b[38;5;241m.\u001b[39m_try_put_index()\n\u001b[1;32m   1372\u001b[0m \u001b[38;5;28;01mif\u001b[39;00m \u001b[38;5;28misinstance\u001b[39m(data, ExceptionWrapper):\n\u001b[0;32m-> 1373\u001b[0m     \u001b[43mdata\u001b[49m\u001b[38;5;241;43m.\u001b[39;49m\u001b[43mreraise\u001b[49m\u001b[43m(\u001b[49m\u001b[43m)\u001b[49m\n\u001b[1;32m   1374\u001b[0m \u001b[38;5;28;01mreturn\u001b[39;00m data\n",
      "File \u001b[0;32m~/anaconda3/envs/urlb/lib/python3.8/site-packages/torch/_utils.py:461\u001b[0m, in \u001b[0;36mExceptionWrapper.reraise\u001b[0;34m(self)\u001b[0m\n\u001b[1;32m    457\u001b[0m \u001b[38;5;28;01mexcept\u001b[39;00m \u001b[38;5;167;01mTypeError\u001b[39;00m:\n\u001b[1;32m    458\u001b[0m     \u001b[38;5;66;03m# If the exception takes multiple arguments, don't try to\u001b[39;00m\n\u001b[1;32m    459\u001b[0m     \u001b[38;5;66;03m# instantiate since we don't know how to\u001b[39;00m\n\u001b[1;32m    460\u001b[0m     \u001b[38;5;28;01mraise\u001b[39;00m \u001b[38;5;167;01mRuntimeError\u001b[39;00m(msg) \u001b[38;5;28;01mfrom\u001b[39;00m \u001b[38;5;28mNone\u001b[39m\n\u001b[0;32m--> 461\u001b[0m \u001b[38;5;28;01mraise\u001b[39;00m exception\n",
      "\u001b[0;31mIndexError\u001b[0m: Caught IndexError in DataLoader worker process 2.\nOriginal Traceback (most recent call last):\n  File \"/home/seolho/anaconda3/envs/urlb/lib/python3.8/site-packages/torch/utils/data/_utils/worker.py\", line 302, in _worker_loop\n    data = fetcher.fetch(index)\n  File \"/home/seolho/anaconda3/envs/urlb/lib/python3.8/site-packages/torch/utils/data/_utils/fetch.py\", line 32, in fetch\n    data.append(next(self.dataset_iter))\n  File \"/home/seolho/workplace/self-supervised-rl/for commit/cic/replay_buffer.py\", line 169, in __iter__\n    yield self._sample()\n  File \"/home/seolho/workplace/self-supervised-rl/for commit/cic/replay_buffer.py\", line 150, in _sample\n    episode = self._sample_episode()\n  File \"/home/seolho/workplace/self-supervised-rl/for commit/cic/replay_buffer.py\", line 99, in _sample_episode\n    eps_fn = random.choice(self._episode_fns)\n  File \"/home/seolho/anaconda3/envs/urlb/lib/python3.8/random.py\", line 290, in choice\n    raise IndexError('Cannot choose from an empty sequence') from None\nIndexError: Cannot choose from an empty sequence\n"
     ]
    }
   ],
   "source": [
    "workspace.agent.behavior_cloning(workspace.replay_iter, 0)"
   ]
  },
  {
   "cell_type": "code",
   "execution_count": 31,
   "id": "8e64ee82",
   "metadata": {
    "scrolled": true
   },
   "outputs": [
    {
     "data": {
      "text/plain": [
       "{'batch_reward': 0.13910725712776184,\n",
       " 'critic_target_q': 0.17433397471904755,\n",
       " 'critic_q1': 0.1872975081205368,\n",
       " 'critic_q2': 0.19648459553718567,\n",
       " 'critic_loss': 0.27787157893180847,\n",
       " 'actor_loss': -0.21502485871315002,\n",
       " 'actor_logprob': 2.795954942703247,\n",
       " 'actor_ent': -1.1429965496063232}"
      ]
     },
     "execution_count": 31,
     "metadata": {},
     "output_type": "execute_result"
    }
   ],
   "source": [
    "workspace.agent.update(workspace.replay_iter, 0)"
   ]
  },
  {
   "cell_type": "code",
   "execution_count": 39,
   "id": "76dd3433",
   "metadata": {},
   "outputs": [
    {
     "data": {
      "text/plain": [
       "Array(shape=(24,), dtype=dtype('float32'), name='observation')"
      ]
     },
     "execution_count": 39,
     "metadata": {},
     "output_type": "execute_result"
    }
   ],
   "source": [
    "workspace.train_env.observation_spec()"
   ]
  },
  {
   "cell_type": "code",
   "execution_count": 33,
   "id": "4697a55b",
   "metadata": {},
   "outputs": [
    {
     "data": {
      "text/plain": [
       "torch.Size([1024, 24])"
      ]
     },
     "execution_count": 33,
     "metadata": {},
     "output_type": "execute_result"
    }
   ],
   "source": [
    "next(workspace.replay_iter)[0].shape"
   ]
  },
  {
   "cell_type": "code",
   "execution_count": 112,
   "id": "121ed449",
   "metadata": {},
   "outputs": [
    {
     "data": {
      "text/plain": [
       "3000"
      ]
     },
     "execution_count": 112,
     "metadata": {},
     "output_type": "execute_result"
    }
   ],
   "source": []
  },
  {
   "cell_type": "code",
   "execution_count": null,
   "id": "6923be9a",
   "metadata": {},
   "outputs": [],
   "source": [
    "metrics = self.agent.update(self.replay_iter, self.global_step)"
   ]
  },
  {
   "cell_type": "code",
   "execution_count": 4,
   "id": "df37988b",
   "metadata": {},
   "outputs": [
    {
     "name": "stdout",
     "output_type": "stream",
     "text": [
      "size :  1\n",
      "size :  1\n",
      "size :  1\n",
      "size :  1\n",
      "size :  1\n",
      "size :  1\n",
      "size :  1\n",
      "size :  1\n",
      "size :  1\n",
      "size :  1\n",
      "| \u001b[32meval\u001b[0m  | F: 0 | S: 0 | E: 0 | L: 1000 | R: 244.6752 | T: 0:00:00\n"
     ]
    },
    {
     "ename": "TypeError",
     "evalue": "init_meta() missing 1 required positional argument: 'skill'",
     "output_type": "error",
     "traceback": [
      "\u001b[0;31m---------------------------------------------------------------------------\u001b[0m",
      "\u001b[0;31mTypeError\u001b[0m                                 Traceback (most recent call last)",
      "Input \u001b[0;32mIn [4]\u001b[0m, in \u001b[0;36m<cell line: 1>\u001b[0;34m()\u001b[0m\n\u001b[0;32m----> 1\u001b[0m \u001b[43mworkspace\u001b[49m\u001b[38;5;241;43m.\u001b[39;49m\u001b[43mtrain\u001b[49m\u001b[43m(\u001b[49m\u001b[43m)\u001b[49m\n",
      "File \u001b[0;32m~/workplace/self-supervised-rl/for commit/cic/finetune.py:197\u001b[0m, in \u001b[0;36mWorkspace.train\u001b[0;34m(self)\u001b[0m\n\u001b[1;32m    193\u001b[0m     \u001b[38;5;28mself\u001b[39m\u001b[38;5;241m.\u001b[39mlogger\u001b[38;5;241m.\u001b[39mlog(\u001b[38;5;124m'\u001b[39m\u001b[38;5;124meval_total_time\u001b[39m\u001b[38;5;124m'\u001b[39m, \u001b[38;5;28mself\u001b[39m\u001b[38;5;241m.\u001b[39mtimer\u001b[38;5;241m.\u001b[39mtotal_time(),\n\u001b[1;32m    194\u001b[0m                     \u001b[38;5;28mself\u001b[39m\u001b[38;5;241m.\u001b[39mglobal_frame)\n\u001b[1;32m    195\u001b[0m     \u001b[38;5;28mself\u001b[39m\u001b[38;5;241m.\u001b[39meval(np\u001b[38;5;241m.\u001b[39mrandom\u001b[38;5;241m.\u001b[39muniform(\u001b[38;5;241m0\u001b[39m,\u001b[38;5;241m1\u001b[39m,\u001b[38;5;241m64\u001b[39m)\u001b[38;5;241m.\u001b[39mastype(np\u001b[38;5;241m.\u001b[39mfloat32))\n\u001b[0;32m--> 197\u001b[0m meta \u001b[38;5;241m=\u001b[39m \u001b[38;5;28;43mself\u001b[39;49m\u001b[38;5;241;43m.\u001b[39;49m\u001b[43magent\u001b[49m\u001b[38;5;241;43m.\u001b[39;49m\u001b[43mupdate_meta\u001b[49m\u001b[43m(\u001b[49m\u001b[43mmeta\u001b[49m\u001b[43m,\u001b[49m\u001b[43m \u001b[49m\u001b[38;5;28;43mself\u001b[39;49m\u001b[38;5;241;43m.\u001b[39;49m\u001b[43mglobal_step\u001b[49m\u001b[43m,\u001b[49m\u001b[43m \u001b[49m\u001b[43mtime_step\u001b[49m\u001b[43m)\u001b[49m\n\u001b[1;32m    199\u001b[0m \u001b[38;5;28;01mif\u001b[39;00m \u001b[38;5;28mhasattr\u001b[39m(\u001b[38;5;28mself\u001b[39m\u001b[38;5;241m.\u001b[39magent, \u001b[38;5;124m\"\u001b[39m\u001b[38;5;124mregress_meta\u001b[39m\u001b[38;5;124m\"\u001b[39m):\n\u001b[1;32m    200\u001b[0m     repeat \u001b[38;5;241m=\u001b[39m \u001b[38;5;28mself\u001b[39m\u001b[38;5;241m.\u001b[39mcfg\u001b[38;5;241m.\u001b[39maction_repeat\n",
      "File \u001b[0;32m~/workplace/self-supervised-rl/for commit/cic/agent/cic.py:150\u001b[0m, in \u001b[0;36mCICAgent.update_meta\u001b[0;34m(self, meta, step, time_step)\u001b[0m\n\u001b[1;32m    148\u001b[0m \u001b[38;5;28;01mdef\u001b[39;00m \u001b[38;5;21mupdate_meta\u001b[39m(\u001b[38;5;28mself\u001b[39m, meta, step, time_step):\n\u001b[1;32m    149\u001b[0m     \u001b[38;5;28;01mif\u001b[39;00m step \u001b[38;5;241m%\u001b[39m \u001b[38;5;28mself\u001b[39m\u001b[38;5;241m.\u001b[39mupdate_skill_every_step \u001b[38;5;241m==\u001b[39m \u001b[38;5;241m0\u001b[39m:\n\u001b[0;32m--> 150\u001b[0m         \u001b[38;5;28;01mreturn\u001b[39;00m \u001b[38;5;28;43mself\u001b[39;49m\u001b[38;5;241;43m.\u001b[39;49m\u001b[43minit_meta\u001b[49m\u001b[43m(\u001b[49m\u001b[43m)\u001b[49m\n\u001b[1;32m    151\u001b[0m     \u001b[38;5;28;01mreturn\u001b[39;00m meta\n",
      "\u001b[0;31mTypeError\u001b[0m: init_meta() missing 1 required positional argument: 'skill'"
     ]
    }
   ],
   "source": [
    "workspace.train()"
   ]
  },
  {
   "cell_type": "code",
   "execution_count": 11,
   "id": "cee28e6d",
   "metadata": {},
   "outputs": [],
   "source": [
    "class Until:\n",
    "    def __init__(self, until, action_repeat=1):\n",
    "        self._until = until\n",
    "        self._action_repeat = action_repeat\n",
    "\n",
    "    def __call__(self, step):\n",
    "        if self._until is None:\n",
    "            return True\n",
    "        until = self._until // self._action_repeat\n",
    "        return step < until"
   ]
  },
  {
   "cell_type": "code",
   "execution_count": 12,
   "id": "22473dfd",
   "metadata": {},
   "outputs": [],
   "source": [
    "t = Until(10)"
   ]
  },
  {
   "cell_type": "code",
   "execution_count": 15,
   "id": "14ecc7e6",
   "metadata": {},
   "outputs": [
    {
     "name": "stdout",
     "output_type": "stream",
     "text": [
      "0\n",
      "1\n",
      "2\n",
      "3\n",
      "4\n",
      "5\n",
      "6\n",
      "7\n",
      "8\n",
      "9\n"
     ]
    }
   ],
   "source": []
  },
  {
   "cell_type": "code",
   "execution_count": null,
   "id": "95b24490",
   "metadata": {},
   "outputs": [],
   "source": [
    "    def behavior_cloning(self, replay_iter, step):\n",
    "        metrics = dict()\n",
    "\n",
    "        if step % self.update_every_steps != 0:\n",
    "            return metrics\n",
    "\n",
    "        batch = next(replay_iter)\n",
    "\n",
    "        obs, action, reward, discount, next_obs, skill = utils.to_torch(\n",
    "            batch, self.device)\n",
    "\n",
    "        with torch.no_grad():\n",
    "            obs = self.aug_and_encode(obs)\n",
    "        \n",
    "            next_obs = self.aug_and_encode(next_obs)\n",
    "\n",
    "\n",
    "        if self.use_tb or self.use_wandb:\n",
    "            metrics['batch_reward'] = reward.mean().item()\n",
    "\n",
    "        # extend observations with skill\n",
    "        obs = torch.cat([obs, skill], dim=1)\n",
    "        next_obs = torch.cat([next_obs, skill], dim=1)\n",
    "        \n",
    "        stddev = utils.schedule(self.stddev_schedule, step)\n",
    "        dist = self.actor(obs, stddev)\n",
    "        agent_action = dist.sample(clip=self.stddev_clip)\n",
    "        \n",
    "        bc_loss = torch.mean((action - agent_action)**2)\n",
    "        \n",
    "        self.actor_opt.zero_grad(set_to_none=True)\n",
    "        loss.backward()\n",
    "        self.actor_opt.step()\n",
    "        # update actor\n",
    "        metrics['bc_loss'] = bc_loss.item()\n",
    "\n",
    "        return metrics\n"
   ]
  }
 ],
 "metadata": {
  "kernelspec": {
   "display_name": "urlb",
   "language": "python",
   "name": "urlb"
  },
  "language_info": {
   "codemirror_mode": {
    "name": "ipython",
    "version": 3
   },
   "file_extension": ".py",
   "mimetype": "text/x-python",
   "name": "python",
   "nbconvert_exporter": "python",
   "pygments_lexer": "ipython3",
   "version": "3.8.13"
  }
 },
 "nbformat": 4,
 "nbformat_minor": 5
}
