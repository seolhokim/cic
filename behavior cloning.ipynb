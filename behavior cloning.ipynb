{
 "cells": [
  {
   "cell_type": "code",
   "execution_count": 1,
   "id": "bc237171",
   "metadata": {},
   "outputs": [
    {
     "name": "stderr",
     "output_type": "stream",
     "text": [
      "/home/seolho/anaconda3/envs/urlb/lib/python3.8/site-packages/tqdm/auto.py:22: TqdmWarning: IProgress not found. Please update jupyter and ipywidgets. See https://ipywidgets.readthedocs.io/en/stable/user_install.html\n",
      "  from .autonotebook import tqdm as notebook_tqdm\n",
      "/home/seolho/anaconda3/envs/urlb/lib/python3.8/site-packages/torch/utils/tensorboard/__init__.py:4: DeprecationWarning: distutils Version classes are deprecated. Use packaging.version instead.\n",
      "  if not hasattr(tensorboard, \"__version__\") or LooseVersion(\n",
      "/home/seolho/anaconda3/envs/urlb/lib/python3.8/site-packages/torch/utils/tensorboard/__init__.py:6: DeprecationWarning: distutils Version classes are deprecated. Use packaging.version instead.\n",
      "  ) < LooseVersion(\"1.15\"):\n"
     ]
    }
   ],
   "source": [
    "from finetune import Workspace as W\n",
    "import os\n",
    "import hydra\n",
    "from omegaconf import OmegaConf\n",
    "import numpy as np"
   ]
  },
  {
   "cell_type": "code",
   "execution_count": 2,
   "id": "dfbf0f50",
   "metadata": {},
   "outputs": [],
   "source": [
    "import pathlib\n",
    "import hydra\n",
    "hydra.core.global_hydra.GlobalHydra.instance().clear()\n",
    "config_dir = pathlib.Path('./')\n",
    "hydra.initialize(config_path=config_dir)\n",
    "\n",
    "cfg = hydra.compose(config_name='finetune.yaml', overrides=[])\n"
   ]
  },
  {
   "cell_type": "code",
   "execution_count": 3,
   "id": "559a1ab7",
   "metadata": {},
   "outputs": [
    {
     "name": "stdout",
     "output_type": "stream",
     "text": [
      "workspace: /home/seolho/workplace/self-supervised-rl/for commit/cic\n"
     ]
    }
   ],
   "source": [
    "cfg\n",
    "workspace = W(cfg)"
   ]
  },
  {
   "cell_type": "code",
   "execution_count": 4,
   "id": "1317353a",
   "metadata": {},
   "outputs": [
    {
     "data": {
      "text/plain": [
       "array([4.17021990e-01, 7.20324516e-01, 1.14374816e-04, 3.02332580e-01,\n",
       "       1.46755889e-01, 9.23385918e-02, 1.86260208e-01, 3.45560730e-01,\n",
       "       3.96767467e-01, 5.38816750e-01, 4.19194520e-01, 6.85219526e-01,\n",
       "       2.04452246e-01, 8.78117442e-01, 2.73875929e-02, 6.70467496e-01,\n",
       "       4.17304814e-01, 5.58689833e-01, 1.40386939e-01, 1.98101491e-01,\n",
       "       8.00744593e-01, 9.68261600e-01, 3.13424170e-01, 6.92322612e-01,\n",
       "       8.76389146e-01, 8.94606650e-01, 8.50442126e-02, 3.90547849e-02,\n",
       "       1.69830427e-01, 8.78142476e-01, 9.83468369e-02, 4.21107620e-01,\n",
       "       9.57889557e-01, 5.33165276e-01, 6.91877127e-01, 3.15515637e-01,\n",
       "       6.86500907e-01, 8.34625661e-01, 1.82882771e-02, 7.50144303e-01,\n",
       "       9.88861084e-01, 7.48165667e-01, 2.80443996e-01, 7.89279342e-01,\n",
       "       1.03226006e-01, 4.47893530e-01, 9.08595502e-01, 2.93614149e-01,\n",
       "       2.87775338e-01, 1.30028576e-01, 1.93669572e-02, 6.78835511e-01,\n",
       "       2.11628109e-01, 2.65546650e-01, 4.91573155e-01, 5.33625446e-02,\n",
       "       5.74117601e-01, 1.46728575e-01, 5.89305520e-01, 6.99758351e-01,\n",
       "       1.02334432e-01, 4.14055973e-01, 6.94400132e-01, 4.14179265e-01],\n",
       "      dtype=float32)"
      ]
     },
     "execution_count": 4,
     "metadata": {},
     "output_type": "execute_result"
    }
   ],
   "source": [
    "np.random.uniform(0,1,64).astype(np.float32)"
   ]
  },
  {
   "cell_type": "code",
   "execution_count": 6,
   "id": "d164e437",
   "metadata": {},
   "outputs": [
    {
     "name": "stdout",
     "output_type": "stream",
     "text": [
      "| \u001b[32meval\u001b[0m  | F: 0 | S: 0 | E: 0 | L: 1000 | R: 220.0863 | T: 0:00:00\n"
     ]
    }
   ],
   "source": [
    "skill = np.ones(64).astype(np.float32)\n",
    "workspace.eval(skill)"
   ]
  },
  {
   "cell_type": "code",
   "execution_count": null,
   "id": "b893b6bc",
   "metadata": {},
   "outputs": [],
   "source": []
  }
 ],
 "metadata": {
  "kernelspec": {
   "display_name": "urlb",
   "language": "python",
   "name": "urlb"
  },
  "language_info": {
   "codemirror_mode": {
    "name": "ipython",
    "version": 3
   },
   "file_extension": ".py",
   "mimetype": "text/x-python",
   "name": "python",
   "nbconvert_exporter": "python",
   "pygments_lexer": "ipython3",
   "version": "3.8.13"
  }
 },
 "nbformat": 4,
 "nbformat_minor": 5
}
