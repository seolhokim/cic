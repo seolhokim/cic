{
 "cells": [
  {
   "cell_type": "code",
   "execution_count": 1,
   "id": "3ca5093b",
   "metadata": {},
   "outputs": [
    {
     "name": "stderr",
     "output_type": "stream",
     "text": [
      "/home/seolho/anaconda3/envs/urlb/lib/python3.8/site-packages/tqdm/auto.py:22: TqdmWarning: IProgress not found. Please update jupyter and ipywidgets. See https://ipywidgets.readthedocs.io/en/stable/user_install.html\n",
      "  from .autonotebook import tqdm as notebook_tqdm\n",
      "/home/seolho/anaconda3/envs/urlb/lib/python3.8/site-packages/torch/utils/tensorboard/__init__.py:4: DeprecationWarning: distutils Version classes are deprecated. Use packaging.version instead.\n",
      "  if not hasattr(tensorboard, \"__version__\") or LooseVersion(\n",
      "/home/seolho/anaconda3/envs/urlb/lib/python3.8/site-packages/torch/utils/tensorboard/__init__.py:6: DeprecationWarning: distutils Version classes are deprecated. Use packaging.version instead.\n",
      "  ) < LooseVersion(\"1.15\"):\n"
     ]
    }
   ],
   "source": [
    "from finetune import Workspace as W\n",
    "import os\n",
    "import hydra\n",
    "from omegaconf import OmegaConf"
   ]
  },
  {
   "cell_type": "code",
   "execution_count": 2,
   "id": "80b0895e",
   "metadata": {},
   "outputs": [],
   "source": [
    "import pathlib\n",
    "import hydra\n",
    "hydra.core.global_hydra.GlobalHydra.instance().clear()\n",
    "config_dir = pathlib.Path('./')\n",
    "hydra.initialize(config_path=config_dir)\n",
    "\n",
    "cfg = hydra.compose(config_name='finetune.yaml', overrides=[])\n"
   ]
  },
  {
   "cell_type": "code",
   "execution_count": 3,
   "id": "ba7aee8d",
   "metadata": {},
   "outputs": [
    {
     "data": {
      "text/plain": [
       "{'agent': {'_target_': 'agent.cic.CICAgent', 'name': 'cic', 'reward_free': '${reward_free}', 'obs_type': '???', 'obs_shape': '???', 'action_shape': '???', 'device': '${device}', 'lr': 0.0001, 'critic_target_tau': 0.01, 'update_every_steps': 2, 'use_tb': '${use_tb}', 'use_wandb': '${use_wandb}', 'num_expl_steps': 2000, 'hidden_dim': 1024, 'feature_dim': 1024, 'stddev_schedule': 0.2, 'stddev_clip': 0.3, 'skill_dim': 64, 'scale': 1.0, 'update_skill_every_step': 50, 'nstep': 3, 'batch_size': 1024, 'project_skill': True, 'init_critic': True, 'rew_type': 'og', 'update_rep': True, 'temp': 0.5}, 'reward_free': False, 'task': 'walker_flip', 'obs_type': 'states', 'frame_stack': 3, 'action_repeat': 1, 'discount': 0.99, 'num_train_frames': 100010, 'num_seed_frames': 4000, 'eval_every_frames': 10000, 'num_eval_episodes': 10, 'snapshot_ts': 2000000, 'snapshot_base_dir': './pretrained_models', 'snapshot_name': 'none', 'replay_buffer_size': 1000000, 'replay_buffer_num_workers': 4, 'batch_size': '${agent.batch_size}', 'nstep': '${agent.nstep}', 'update_encoder': False, 'seed': 1, 'device': 'cuda', 'save_video': True, 'save_train_video': False, 'use_tb': True, 'use_wandb': False, 'experiment': 'exp', 'num_bootstrap_updates': 10000}"
      ]
     },
     "execution_count": 3,
     "metadata": {},
     "output_type": "execute_result"
    }
   ],
   "source": [
    "cfg"
   ]
  },
  {
   "cell_type": "code",
   "execution_count": 4,
   "id": "27565a0e",
   "metadata": {},
   "outputs": [
    {
     "name": "stdout",
     "output_type": "stream",
     "text": [
      "workspace: /home/seolho/workplace/self-supervised-rl/for commit/cic\n"
     ]
    }
   ],
   "source": [
    "workspace = W(cfg)"
   ]
  },
  {
   "cell_type": "code",
   "execution_count": 7,
   "id": "4f06a3e6",
   "metadata": {},
   "outputs": [
    {
     "name": "stdout",
     "output_type": "stream",
     "text": [
      "| \u001b[32meval\u001b[0m  | F: 0 | S: 0 | E: 0 | L: 1000 | R: 237.8867 | T: 0:00:00\n"
     ]
    }
   ],
   "source": [
    "workspace.eval()"
   ]
  },
  {
   "cell_type": "code",
   "execution_count": null,
   "id": "0de208ab",
   "metadata": {},
   "outputs": [],
   "source": []
  }
 ],
 "metadata": {
  "kernelspec": {
   "display_name": "urlb",
   "language": "python",
   "name": "urlb"
  },
  "language_info": {
   "codemirror_mode": {
    "name": "ipython",
    "version": 3
   },
   "file_extension": ".py",
   "mimetype": "text/x-python",
   "name": "python",
   "nbconvert_exporter": "python",
   "pygments_lexer": "ipython3",
   "version": "3.8.13"
  }
 },
 "nbformat": 4,
 "nbformat_minor": 5
}
